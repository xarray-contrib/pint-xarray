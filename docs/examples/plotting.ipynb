{
 "cells": [
  {
   "cell_type": "markdown",
   "id": "ignored-brain",
   "metadata": {},
   "source": [
    "# plotting quantified data"
   ]
  },
  {
   "cell_type": "code",
   "execution_count": null,
   "id": "sealed-bishop",
   "metadata": {},
   "outputs": [],
   "source": [
    "import xarray as xr\n",
    "import pint_xarray"
   ]
  },
  {
   "cell_type": "markdown",
   "id": "binding-financing",
   "metadata": {},
   "source": [
    "## load the data"
   ]
  },
  {
   "cell_type": "code",
   "execution_count": null,
   "id": "round-consistency",
   "metadata": {},
   "outputs": [],
   "source": [
    "ds = xr.tutorial.open_dataset(\"air_temperature\")\n",
    "data = ds.air\n",
    "data"
   ]
  },
  {
   "cell_type": "markdown",
   "id": "collective-surrey",
   "metadata": {},
   "source": [
    "## convert units into a format understood by pint\n",
    "\n",
    "<!-- Use one of the alert classes: alert-info, alert-warning, alert-success, alert-danger -->\n",
    "<div class=\"alert alert-block alert-warning\">\n",
    "    <b>Note:</b> this example uses the data provided by the <tt>xarray.tutorial</tt> functions. As such, the units attributes follow the CF conventions, which by default <tt>pint</tt> does not understand. To work around that, we're modifying the <tt>units</tt> attributes here, but in general it is better to use a library that modifies the <tt>UnitRegistry</tt>.\n",
    "</div>"
   ]
  },
  {
   "cell_type": "code",
   "execution_count": null,
   "id": "satisfied-baseline",
   "metadata": {},
   "outputs": [],
   "source": [
    "data.lat.attrs[\"units\"] = \"degree\"\n",
    "data.lon.attrs[\"units\"] = \"degree\""
   ]
  },
  {
   "cell_type": "markdown",
   "id": "indonesian-stuff",
   "metadata": {},
   "source": [
    "## quantify the data"
   ]
  },
  {
   "cell_type": "code",
   "execution_count": null,
   "id": "affected-input",
   "metadata": {},
   "outputs": [],
   "source": [
    "quantified = data.pint.quantify()\n",
    "quantified"
   ]
  },
  {
   "cell_type": "markdown",
   "id": "every-minnesota",
   "metadata": {},
   "source": [
    "## work with the data"
   ]
  },
  {
   "cell_type": "code",
   "execution_count": null,
   "id": "measured-encounter",
   "metadata": {},
   "outputs": [],
   "source": [
    "monthly_means = (\n",
    "    quantified\n",
    "    .pint.to(\"degC\")\n",
    "    .sel(time=\"2013\")\n",
    "    .groupby(\"time.month\").mean()\n",
    ")\n",
    "monthly_means"
   ]
  },
  {
   "cell_type": "markdown",
   "id": "creative-member",
   "metadata": {},
   "source": [
    "## plot\n",
    "\n",
    "`xarray`'s plotting functions will cast the data to `numpy.ndarray`, so we need to \"dequantify\" first."
   ]
  },
  {
   "cell_type": "code",
   "execution_count": null,
   "id": "round-symphony",
   "metadata": {},
   "outputs": [],
   "source": [
    "monthly_means.pint.dequantify(format=\"~P\").plot.imshow(col=\"month\", col_wrap=4)"
   ]
  }
 ],
 "metadata": {
  "kernelspec": {
   "display_name": "Python 3",
   "language": "python",
   "name": "python3"
  },
  "language_info": {
   "codemirror_mode": {
    "name": "ipython",
    "version": 3
   },
   "file_extension": ".py",
   "mimetype": "text/x-python",
   "name": "python",
   "nbconvert_exporter": "python",
   "pygments_lexer": "ipython3",
   "version": "3.8.6"
  }
 },
 "nbformat": 4,
 "nbformat_minor": 5
}
