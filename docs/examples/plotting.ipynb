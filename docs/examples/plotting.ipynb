{
 "cells": [
  {
   "cell_type": "markdown",
   "id": "round-optimization",
   "metadata": {},
   "source": [
    "# plotting quantified data"
   ]
  },
  {
   "cell_type": "code",
   "execution_count": null,
   "id": "greatest-smart",
   "metadata": {},
   "outputs": [],
   "source": [
    "import xarray as xr\n",
    "import pint_xarray\n",
    "from pint_xarray import unit_registry as ureg\n",
    "\n",
    "xr.set_options(display_expand_data=False)"
   ]
  },
  {
   "cell_type": "markdown",
   "id": "fuzzy-maintenance",
   "metadata": {},
   "source": [
    "## load the data"
   ]
  },
  {
   "cell_type": "code",
   "execution_count": null,
   "id": "proved-racing",
   "metadata": {},
   "outputs": [],
   "source": [
    "ds = xr.tutorial.open_dataset(\"air_temperature\")\n",
    "data = ds.air\n",
    "data"
   ]
  },
  {
   "cell_type": "markdown",
   "id": "medium-backup",
   "metadata": {},
   "source": [
    "## convert units into a format understood by pint\n",
    "\n",
    "<div class=\"alert alert-info\">\n",
    "<strong>Note:</strong> this example uses the data provided by the <code>xarray.tutorial</code> functions. As such, the <code>units</code> attributes follow the CF conventions, which <code>pint</code> does not understand by default. To work around that, we are modifying the <code>units</code> attributes here, but in general it is better to use a library that adds support for the units used by the CF conventions to <code>pint</code>.\n",
    "</div>"
   ]
  },
  {
   "cell_type": "code",
   "execution_count": null,
   "id": "published-powell",
   "metadata": {},
   "outputs": [],
   "source": [
    "data.lat.attrs[\"units\"] = \"degree\"\n",
    "data.lon.attrs[\"units\"] = \"degree\""
   ]
  },
  {
   "cell_type": "markdown",
   "id": "banned-tolerance",
   "metadata": {},
   "source": [
    "## quantify the data"
   ]
  },
  {
   "cell_type": "code",
   "execution_count": null,
   "id": "divine-boost",
   "metadata": {},
   "outputs": [],
   "source": [
    "quantified = data.pint.quantify()\n",
    "quantified"
   ]
  },
  {
   "cell_type": "markdown",
   "id": "whole-momentum",
   "metadata": {},
   "source": [
    "## work with the data"
   ]
  },
  {
   "cell_type": "code",
   "execution_count": null,
   "id": "dried-friday",
   "metadata": {},
   "outputs": [],
   "source": [
    "monthly_means = (\n",
    "    quantified\n",
    "    .pint.to(\"degC\")\n",
    "    .sel(time=\"2013\")\n",
    "    .groupby(\"time.month\").mean()\n",
    ")\n",
    "monthly_means"
   ]
  },
  {
   "cell_type": "markdown",
   "id": "14ea5eb8",
   "metadata": {},
   "source": [
    "Most operations will preserve the units but there are some which will drop them (see the [duck array integration status](https://xarray.pydata.org/en/stable/user-guide/duckarrays.html#missing-features) page). To work around that there are unit-aware versions on the `.pint` accessor. For example, to select data use `.pint.sel` instead of `.sel`:"
   ]
  },
  {
   "cell_type": "code",
   "execution_count": null,
   "id": "93e4ca4e",
   "metadata": {},
   "outputs": [],
   "source": [
    "monthly_means.pint.sel(\n",
    "    lat=ureg.Quantity(4350, \"angular_minute\"),\n",
    "    lon=ureg.Quantity(12000, \"angular_minute\"),\n",
    ")"
   ]
  },
  {
   "cell_type": "markdown",
   "id": "still-ebony",
   "metadata": {},
   "source": [
    "## plot\n",
    "\n",
    "`xarray`'s plotting functions will cast the data to `numpy.ndarray`, so we need to \"dequantify\" first."
   ]
  },
  {
   "cell_type": "code",
   "execution_count": null,
   "id": "united-machine",
   "metadata": {},
   "outputs": [],
   "source": [
    "monthly_means.pint.dequantify(format=\"~P\").plot.imshow(col=\"month\", col_wrap=4)"
   ]
  }
 ],
 "metadata": {
  "kernelspec": {
   "display_name": "Python 3",
   "language": "python",
   "name": "python3"
  },
  "language_info": {
   "codemirror_mode": {
    "name": "ipython",
    "version": 3
   },
   "file_extension": ".py",
   "mimetype": "text/x-python",
   "name": "python",
   "nbconvert_exporter": "python",
   "pygments_lexer": "ipython3",
   "version": "3.9.2"
  }
 },
 "nbformat": 4,
 "nbformat_minor": 5
}
