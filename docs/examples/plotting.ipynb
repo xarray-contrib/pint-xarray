{
 "cells": [
  {
   "cell_type": "markdown",
   "id": "adjacent-acting",
   "metadata": {},
   "source": [
    "# plotting quantified data"
   ]
  },
  {
   "cell_type": "code",
   "execution_count": null,
   "id": "iraqi-maintenance",
   "metadata": {},
   "outputs": [],
   "source": [
    "import xarray as xr\n",
    "import pint_xarray"
   ]
  },
  {
   "cell_type": "markdown",
   "id": "blessed-cancellation",
   "metadata": {},
   "source": [
    "## load the data"
   ]
  },
  {
   "cell_type": "code",
   "execution_count": null,
   "id": "advance-portal",
   "metadata": {},
   "outputs": [],
   "source": [
    "ds = xr.tutorial.open_dataset(\"air_temperature\")\n",
    "data = ds.air\n",
    "data"
   ]
  },
  {
   "cell_type": "markdown",
   "id": "hired-tonight",
   "metadata": {},
   "source": [
    "## convert units into a format understood by pint\n",
    "\n",
    "<div class=\"alert alert-info\">\n",
    "    <strong>Note:</strong> this example uses the data provided by the <code>xarray.tutorial</code> functions.\n",
    "    As such, the units attributes follow the CF conventions, which by default <code>pint</code> does not \n",
    "    understand. To work around that, we're modifying the <code>units</code> attributes here, but in general it\n",
    "    is better to use a library that modifies the <code>UnitRegistry</code>.\n",
    "</div>"
   ]
  },
  {
   "cell_type": "code",
   "execution_count": null,
   "id": "strong-inclusion",
   "metadata": {},
   "outputs": [],
   "source": [
    "data.lat.attrs[\"units\"] = \"degree\"\n",
    "data.lon.attrs[\"units\"] = \"degree\""
   ]
  },
  {
   "cell_type": "markdown",
   "id": "romantic-operation",
   "metadata": {},
   "source": [
    "## quantify the data"
   ]
  },
  {
   "cell_type": "code",
   "execution_count": null,
   "id": "eligible-warner",
   "metadata": {},
   "outputs": [],
   "source": [
    "quantified = data.pint.quantify()\n",
    "quantified"
   ]
  },
  {
   "cell_type": "markdown",
   "id": "massive-international",
   "metadata": {},
   "source": [
    "## work with the data"
   ]
  },
  {
   "cell_type": "code",
   "execution_count": null,
   "id": "productive-rhythm",
   "metadata": {},
   "outputs": [],
   "source": [
    "monthly_means = (\n",
    "    quantified\n",
    "    .pint.to(\"degC\")\n",
    "    .sel(time=\"2013\")\n",
    "    .groupby(\"time.month\").mean()\n",
    ")\n",
    "monthly_means"
   ]
  },
  {
   "cell_type": "markdown",
   "id": "inside-blame",
   "metadata": {},
   "source": [
    "## plot\n",
    "\n",
    "`xarray`'s plotting functions will cast the data to `numpy.ndarray`, so we need to \"dequantify\" first."
   ]
  },
  {
   "cell_type": "code",
   "execution_count": null,
   "id": "athletic-external",
   "metadata": {},
   "outputs": [],
   "source": [
    "monthly_means.pint.dequantify(format=\"~P\").plot.imshow(col=\"month\", col_wrap=4)"
   ]
  }
 ],
 "metadata": {
  "kernelspec": {
   "display_name": "Python 3",
   "language": "python",
   "name": "python3"
  },
  "language_info": {
   "codemirror_mode": {
    "name": "ipython",
    "version": 3
   },
   "file_extension": ".py",
   "mimetype": "text/x-python",
   "name": "python",
   "nbconvert_exporter": "python",
   "pygments_lexer": "ipython3",
   "version": "3.8.6"
  }
 },
 "nbformat": 4,
 "nbformat_minor": 5
}
